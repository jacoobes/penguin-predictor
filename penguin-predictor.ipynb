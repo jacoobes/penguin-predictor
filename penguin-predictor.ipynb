{
 "cells": [
  {
   "cell_type": "code",
   "execution_count": 1,
   "id": "20d6624e-2c29-4200-bef4-921c8424f10f",
   "metadata": {},
   "outputs": [],
   "source": [
    "import pandas as pd"
   ]
  },
  {
   "cell_type": "markdown",
   "id": "8640529a-d0e6-4d64-b994-04740e40f735",
   "metadata": {},
   "source": [
    "# MLP to predict species"
   ]
  },
  {
   "cell_type": "code",
   "execution_count": 2,
   "id": "a910698a-33ce-4f71-9550-f3aca067cd42",
   "metadata": {},
   "outputs": [],
   "source": [
    "from mlp import MultilayerPerceptron, Layer, Linear, SquaredError, LeakyRelu, Relu, Softmax, CrossEntropy\n",
    "import numpy as np"
   ]
  },
  {
   "cell_type": "code",
   "execution_count": 3,
   "id": "e91e9f1a-c815-40cb-8abb-8139b5707764",
   "metadata": {},
   "outputs": [
    {
     "name": "stdout",
     "output_type": "stream",
     "text": [
      "weights shape (4, 7)\n",
      "bias shape (7,)\n",
      "weights shape (7, 16)\n",
      "bias shape (16,)\n",
      "weights shape (16, 3)\n",
      "bias shape (3,)\n"
     ]
    }
   ],
   "source": [
    "model = MultilayerPerceptron(\n",
    "    [\n",
    "        Layer(fan_in = 4, fan_out = 7, activation_function=LeakyRelu()),\n",
    "        Layer(fan_in = 7, fan_out = 16, activation_function=Relu()),\n",
    "        Layer(fan_in = 16, fan_out = 3, activation_function=Softmax())\n",
    "    ]\n",
    ")"
   ]
  },
  {
   "cell_type": "markdown",
   "id": "6841a195-96a6-4794-a1b2-9fc295fd3054",
   "metadata": {},
   "source": [
    "## Preparing data"
   ]
  },
  {
   "cell_type": "code",
   "execution_count": 4,
   "id": "52c8711e-ecc3-4865-a132-44ff1c697a17",
   "metadata": {},
   "outputs": [
    {
     "data": {
      "text/html": [
       "<div>\n",
       "<style scoped>\n",
       "    .dataframe tbody tr th:only-of-type {\n",
       "        vertical-align: middle;\n",
       "    }\n",
       "\n",
       "    .dataframe tbody tr th {\n",
       "        vertical-align: top;\n",
       "    }\n",
       "\n",
       "    .dataframe thead th {\n",
       "        text-align: right;\n",
       "    }\n",
       "</style>\n",
       "<table border=\"1\" class=\"dataframe\">\n",
       "  <thead>\n",
       "    <tr style=\"text-align: right;\">\n",
       "      <th></th>\n",
       "      <th>species</th>\n",
       "      <th>island</th>\n",
       "      <th>culmen_length_mm</th>\n",
       "      <th>culmen_depth_mm</th>\n",
       "      <th>flipper_length_mm</th>\n",
       "    </tr>\n",
       "  </thead>\n",
       "  <tbody>\n",
       "    <tr>\n",
       "      <th>0</th>\n",
       "      <td>0</td>\n",
       "      <td>1</td>\n",
       "      <td>39.1</td>\n",
       "      <td>18.7</td>\n",
       "      <td>181.0</td>\n",
       "    </tr>\n",
       "    <tr>\n",
       "      <th>1</th>\n",
       "      <td>0</td>\n",
       "      <td>1</td>\n",
       "      <td>39.5</td>\n",
       "      <td>17.4</td>\n",
       "      <td>186.0</td>\n",
       "    </tr>\n",
       "    <tr>\n",
       "      <th>2</th>\n",
       "      <td>0</td>\n",
       "      <td>1</td>\n",
       "      <td>40.3</td>\n",
       "      <td>18.0</td>\n",
       "      <td>195.0</td>\n",
       "    </tr>\n",
       "    <tr>\n",
       "      <th>4</th>\n",
       "      <td>0</td>\n",
       "      <td>1</td>\n",
       "      <td>36.7</td>\n",
       "      <td>19.3</td>\n",
       "      <td>193.0</td>\n",
       "    </tr>\n",
       "    <tr>\n",
       "      <th>5</th>\n",
       "      <td>0</td>\n",
       "      <td>1</td>\n",
       "      <td>39.3</td>\n",
       "      <td>20.6</td>\n",
       "      <td>190.0</td>\n",
       "    </tr>\n",
       "    <tr>\n",
       "      <th>...</th>\n",
       "      <td>...</td>\n",
       "      <td>...</td>\n",
       "      <td>...</td>\n",
       "      <td>...</td>\n",
       "      <td>...</td>\n",
       "    </tr>\n",
       "    <tr>\n",
       "      <th>338</th>\n",
       "      <td>1</td>\n",
       "      <td>2</td>\n",
       "      <td>47.2</td>\n",
       "      <td>13.7</td>\n",
       "      <td>214.0</td>\n",
       "    </tr>\n",
       "    <tr>\n",
       "      <th>340</th>\n",
       "      <td>1</td>\n",
       "      <td>2</td>\n",
       "      <td>46.8</td>\n",
       "      <td>14.3</td>\n",
       "      <td>215.0</td>\n",
       "    </tr>\n",
       "    <tr>\n",
       "      <th>341</th>\n",
       "      <td>1</td>\n",
       "      <td>2</td>\n",
       "      <td>50.4</td>\n",
       "      <td>15.7</td>\n",
       "      <td>222.0</td>\n",
       "    </tr>\n",
       "    <tr>\n",
       "      <th>342</th>\n",
       "      <td>1</td>\n",
       "      <td>2</td>\n",
       "      <td>45.2</td>\n",
       "      <td>14.8</td>\n",
       "      <td>212.0</td>\n",
       "    </tr>\n",
       "    <tr>\n",
       "      <th>343</th>\n",
       "      <td>1</td>\n",
       "      <td>2</td>\n",
       "      <td>49.9</td>\n",
       "      <td>16.1</td>\n",
       "      <td>213.0</td>\n",
       "    </tr>\n",
       "  </tbody>\n",
       "</table>\n",
       "<p>334 rows × 5 columns</p>\n",
       "</div>"
      ],
      "text/plain": [
       "     species  island  culmen_length_mm  culmen_depth_mm  flipper_length_mm\n",
       "0          0       1              39.1             18.7              181.0\n",
       "1          0       1              39.5             17.4              186.0\n",
       "2          0       1              40.3             18.0              195.0\n",
       "4          0       1              36.7             19.3              193.0\n",
       "5          0       1              39.3             20.6              190.0\n",
       "..       ...     ...               ...              ...                ...\n",
       "338        1       2              47.2             13.7              214.0\n",
       "340        1       2              46.8             14.3              215.0\n",
       "341        1       2              50.4             15.7              222.0\n",
       "342        1       2              45.2             14.8              212.0\n",
       "343        1       2              49.9             16.1              213.0\n",
       "\n",
       "[334 rows x 5 columns]"
      ]
     },
     "execution_count": 4,
     "metadata": {},
     "output_type": "execute_result"
    }
   ],
   "source": [
    "df = pd.read_csv('./penguins_size.csv', skipinitialspace=True).dropna().drop(['sex', 'body_mass_g'], axis=1)\n",
    "\n",
    "island_encoder = {\n",
    "    'Torgersen': 1,\n",
    "    'Biscoe': 2,\n",
    "    'Dream': 3\n",
    "}\n",
    "# one hot encoding\n",
    "species_encoder = {\n",
    "    'Adelie': 0,\n",
    "    'Gentoo': 1,\n",
    "    'Chinstrap': 2\n",
    "}\n",
    "df['island'] = df['island'].map(island_encoder)\n",
    "df['species'] = df['species'].map(species_encoder)\n",
    "\n",
    "df = df.dropna().reindex()\n",
    "\n",
    "df"
   ]
  },
  {
   "cell_type": "markdown",
   "id": "1490beb8-f227-4ba0-999d-eeb1d5da9a4f",
   "metadata": {},
   "source": [
    "# analyze"
   ]
  },
  {
   "cell_type": "code",
   "execution_count": 5,
   "id": "042d6adf-1230-4c4f-9755-d4f0ad176ff2",
   "metadata": {},
   "outputs": [],
   "source": [
    "import matplotlib as plt\n",
    "import matplotlib.pyplot as pyplt\n",
    "import seaborn as sns"
   ]
  },
  {
   "cell_type": "code",
   "execution_count": 6,
   "id": "2d80eb65-8a99-4a55-bc00-9f60432e3792",
   "metadata": {},
   "outputs": [],
   "source": [
    "species_groups = df.groupby('species')"
   ]
  },
  {
   "cell_type": "code",
   "execution_count": 7,
   "id": "56fa0d2c-2c2a-4631-a4f2-deabd15119ff",
   "metadata": {},
   "outputs": [
    {
     "data": {
      "text/html": [
       "<div>\n",
       "<style scoped>\n",
       "    .dataframe tbody tr th:only-of-type {\n",
       "        vertical-align: middle;\n",
       "    }\n",
       "\n",
       "    .dataframe tbody tr th {\n",
       "        vertical-align: top;\n",
       "    }\n",
       "\n",
       "    .dataframe thead tr th {\n",
       "        text-align: left;\n",
       "    }\n",
       "\n",
       "    .dataframe thead tr:last-of-type th {\n",
       "        text-align: right;\n",
       "    }\n",
       "</style>\n",
       "<table border=\"1\" class=\"dataframe\">\n",
       "  <thead>\n",
       "    <tr>\n",
       "      <th></th>\n",
       "      <th colspan=\"8\" halign=\"left\">island</th>\n",
       "      <th colspan=\"2\" halign=\"left\">culmen_length_mm</th>\n",
       "      <th>...</th>\n",
       "      <th colspan=\"2\" halign=\"left\">culmen_depth_mm</th>\n",
       "      <th colspan=\"8\" halign=\"left\">flipper_length_mm</th>\n",
       "    </tr>\n",
       "    <tr>\n",
       "      <th></th>\n",
       "      <th>count</th>\n",
       "      <th>mean</th>\n",
       "      <th>std</th>\n",
       "      <th>min</th>\n",
       "      <th>25%</th>\n",
       "      <th>50%</th>\n",
       "      <th>75%</th>\n",
       "      <th>max</th>\n",
       "      <th>count</th>\n",
       "      <th>mean</th>\n",
       "      <th>...</th>\n",
       "      <th>75%</th>\n",
       "      <th>max</th>\n",
       "      <th>count</th>\n",
       "      <th>mean</th>\n",
       "      <th>std</th>\n",
       "      <th>min</th>\n",
       "      <th>25%</th>\n",
       "      <th>50%</th>\n",
       "      <th>75%</th>\n",
       "      <th>max</th>\n",
       "    </tr>\n",
       "    <tr>\n",
       "      <th>species</th>\n",
       "      <th></th>\n",
       "      <th></th>\n",
       "      <th></th>\n",
       "      <th></th>\n",
       "      <th></th>\n",
       "      <th></th>\n",
       "      <th></th>\n",
       "      <th></th>\n",
       "      <th></th>\n",
       "      <th></th>\n",
       "      <th></th>\n",
       "      <th></th>\n",
       "      <th></th>\n",
       "      <th></th>\n",
       "      <th></th>\n",
       "      <th></th>\n",
       "      <th></th>\n",
       "      <th></th>\n",
       "      <th></th>\n",
       "      <th></th>\n",
       "      <th></th>\n",
       "    </tr>\n",
       "  </thead>\n",
       "  <tbody>\n",
       "    <tr>\n",
       "      <th>0</th>\n",
       "      <td>146.0</td>\n",
       "      <td>2.054795</td>\n",
       "      <td>0.836914</td>\n",
       "      <td>1.0</td>\n",
       "      <td>1.0</td>\n",
       "      <td>2.0</td>\n",
       "      <td>3.0</td>\n",
       "      <td>3.0</td>\n",
       "      <td>146.0</td>\n",
       "      <td>38.823973</td>\n",
       "      <td>...</td>\n",
       "      <td>19.000</td>\n",
       "      <td>21.5</td>\n",
       "      <td>146.0</td>\n",
       "      <td>190.102740</td>\n",
       "      <td>6.521825</td>\n",
       "      <td>172.0</td>\n",
       "      <td>186.0</td>\n",
       "      <td>190.0</td>\n",
       "      <td>195.00</td>\n",
       "      <td>210.0</td>\n",
       "    </tr>\n",
       "    <tr>\n",
       "      <th>1</th>\n",
       "      <td>120.0</td>\n",
       "      <td>2.000000</td>\n",
       "      <td>0.000000</td>\n",
       "      <td>2.0</td>\n",
       "      <td>2.0</td>\n",
       "      <td>2.0</td>\n",
       "      <td>2.0</td>\n",
       "      <td>2.0</td>\n",
       "      <td>120.0</td>\n",
       "      <td>47.542500</td>\n",
       "      <td>...</td>\n",
       "      <td>15.725</td>\n",
       "      <td>17.3</td>\n",
       "      <td>120.0</td>\n",
       "      <td>217.233333</td>\n",
       "      <td>6.557738</td>\n",
       "      <td>203.0</td>\n",
       "      <td>212.0</td>\n",
       "      <td>216.0</td>\n",
       "      <td>221.25</td>\n",
       "      <td>231.0</td>\n",
       "    </tr>\n",
       "    <tr>\n",
       "      <th>2</th>\n",
       "      <td>68.0</td>\n",
       "      <td>3.000000</td>\n",
       "      <td>0.000000</td>\n",
       "      <td>3.0</td>\n",
       "      <td>3.0</td>\n",
       "      <td>3.0</td>\n",
       "      <td>3.0</td>\n",
       "      <td>3.0</td>\n",
       "      <td>68.0</td>\n",
       "      <td>48.833824</td>\n",
       "      <td>...</td>\n",
       "      <td>19.400</td>\n",
       "      <td>20.8</td>\n",
       "      <td>68.0</td>\n",
       "      <td>195.823529</td>\n",
       "      <td>7.131894</td>\n",
       "      <td>178.0</td>\n",
       "      <td>191.0</td>\n",
       "      <td>196.0</td>\n",
       "      <td>201.00</td>\n",
       "      <td>212.0</td>\n",
       "    </tr>\n",
       "  </tbody>\n",
       "</table>\n",
       "<p>3 rows × 32 columns</p>\n",
       "</div>"
      ],
      "text/plain": [
       "        island                                              culmen_length_mm  \\\n",
       "         count      mean       std  min  25%  50%  75%  max            count   \n",
       "species                                                                        \n",
       "0        146.0  2.054795  0.836914  1.0  1.0  2.0  3.0  3.0            146.0   \n",
       "1        120.0  2.000000  0.000000  2.0  2.0  2.0  2.0  2.0            120.0   \n",
       "2         68.0  3.000000  0.000000  3.0  3.0  3.0  3.0  3.0             68.0   \n",
       "\n",
       "                    ... culmen_depth_mm       flipper_length_mm              \\\n",
       "              mean  ...             75%   max             count        mean   \n",
       "species             ...                                                       \n",
       "0        38.823973  ...          19.000  21.5             146.0  190.102740   \n",
       "1        47.542500  ...          15.725  17.3             120.0  217.233333   \n",
       "2        48.833824  ...          19.400  20.8              68.0  195.823529   \n",
       "\n",
       "                                                       \n",
       "              std    min    25%    50%     75%    max  \n",
       "species                                                \n",
       "0        6.521825  172.0  186.0  190.0  195.00  210.0  \n",
       "1        6.557738  203.0  212.0  216.0  221.25  231.0  \n",
       "2        7.131894  178.0  191.0  196.0  201.00  212.0  \n",
       "\n",
       "[3 rows x 32 columns]"
      ]
     },
     "execution_count": 7,
     "metadata": {},
     "output_type": "execute_result"
    }
   ],
   "source": [
    "species_groups.describe()"
   ]
  },
  {
   "cell_type": "code",
   "execution_count": 8,
   "id": "f40664b5-921e-43e1-a3e5-5cb8f2c687d9",
   "metadata": {},
   "outputs": [
    {
     "data": {
      "text/plain": [
       "<Axes: >"
      ]
     },
     "execution_count": 8,
     "metadata": {},
     "output_type": "execute_result"
    },
    {
     "data": {
      "image/png": "[encoded data removed]",
      "text/plain": [
       "<Figure size 640x480 with 2 Axes>"
      ]
     },
     "metadata": {},
     "output_type": "display_data"
    }
   ],
   "source": [
    "\n",
    "\n",
    "#corr = df.drop(['species'], axis=1).scatter_matrix()\n",
    "\n",
    "corr_matrix = df.select_dtypes(include=['number']).corr()\n",
    "\n",
    "# Plot the heatmap\n",
    "sns.heatmap(corr_matrix, annot=True, cmap='coolwarm', fmt=\".2f\")"
   ]
  },
  {
   "cell_type": "code",
   "execution_count": 9,
   "id": "dfd28cfa-a11f-4b86-91d6-3254e52d3a37",
   "metadata": {},
   "outputs": [
    {
     "data": {
      "text/plain": [
       "array([[  1. ,  39.1,  18.7, 181. ],\n",
       "       [  1. ,  39.5,  17.4, 186. ],\n",
       "       [  1. ,  40.3,  18. , 195. ],\n",
       "       ...,\n",
       "       [  2. ,  50.4,  15.7, 222. ],\n",
       "       [  2. ,  45.2,  14.8, 212. ],\n",
       "       [  2. ,  49.9,  16.1, 213. ]])"
      ]
     },
     "execution_count": 9,
     "metadata": {},
     "output_type": "execute_result"
    }
   ],
   "source": [
    "X = df.drop(['species'], axis=1).to_numpy()\n",
    "y =df['species'].to_numpy()\n",
    "\n",
    "# one hot encode 3 cases of classification\n",
    "y = np.eye(3)[y]\n",
    "\n",
    "X"
   ]
  },
  {
   "cell_type": "code",
   "execution_count": 10,
   "id": "0fe36e4d-9479-46b2-8da1-76542a6b115b",
   "metadata": {},
   "outputs": [],
   "source": [
    "from sklearn.model_selection import train_test_split\n",
    "\n",
    "X_train, X_leftover, y_train, y_leftover = train_test_split(\n",
    "    X,\n",
    "    y,\n",
    "    test_size=0.33,\n",
    "    random_state=42)\n",
    "# Split the remaining 30% into validation/testing (15%/15%)\n",
    "X_val, X_test, y_val, y_test = train_test_split(\n",
    "    X_leftover, y_leftover,\n",
    "    test_size=0.5,\n",
    "    random_state=42,\n",
    "    shuffle=True,\n",
    ")\n",
    "X_mean = X_train.mean(axis=0)  # Mean of each feature\n",
    "X_std = X_train.std(axis=0)    # Standard deviation of each feature\n",
    "\n",
    "X_train = (X_train - X_mean) / X_std\n",
    "X_val = (X_val - X_mean) / X_std\n",
    "X_test = (X_test - X_mean) / X_std"
   ]
  },
  {
   "cell_type": "code",
   "execution_count": 11,
   "id": "8bd60965-71a3-4fd6-af6f-c4db5d0077f2",
   "metadata": {},
   "outputs": [
    {
     "name": "stdout",
     "output_type": "stream",
     "text": [
      "Epoch :: 1 :: Train Loss= 0.002655971694645751 :: Val Loss 0.0025274523565088102\n",
      "Epoch :: 2 :: Train Loss= 0.0023487168232791972 :: Val Loss 0.002221334503708442\n",
      "Epoch :: 3 :: Train Loss= 0.002054119760203787 :: Val Loss 0.0019408244509555557\n",
      "Epoch :: 4 :: Train Loss= 0.0018002251764702225 :: Val Loss 0.0017082694063559629\n",
      "Epoch :: 5 :: Train Loss= 0.001594858736827879 :: Val Loss 0.0015224846242420911\n",
      "Epoch :: 6 :: Train Loss= 0.0014316146993841343 :: Val Loss 0.0013759161252332873\n",
      "Epoch :: 7 :: Train Loss= 0.0013057695256345203 :: Val Loss 0.0012658044397190482\n",
      "Epoch :: 8 :: Train Loss= 0.0012083879300115463 :: Val Loss 0.0011719242865582975\n",
      "Epoch :: 9 :: Train Loss= 0.0011248289676758505 :: Val Loss 0.0010957227914803415\n",
      "Epoch :: 10 :: Train Loss= 0.001053989779327135 :: Val Loss 0.0010262556622794225\n",
      "Epoch :: 11 :: Train Loss= 0.000989467600131933 :: Val Loss 0.0009648639065028414\n",
      "Epoch :: 12 :: Train Loss= 0.0009328247105579684 :: Val Loss 0.0009110710573457103\n",
      "Epoch :: 13 :: Train Loss= 0.0008847120181347845 :: Val Loss 0.0008633788225092449\n",
      "Epoch :: 14 :: Train Loss= 0.000840501282419185 :: Val Loss 0.0008215083156646805\n",
      "Epoch :: 15 :: Train Loss= 0.0007959857371310463 :: Val Loss 0.0007816122160055016\n",
      "Epoch :: 16 :: Train Loss= 0.0007601543616758786 :: Val Loss 0.0007467504307052754\n",
      "Epoch :: 17 :: Train Loss= 0.0007264609269464894 :: Val Loss 0.0007156817326472342\n",
      "Epoch :: 18 :: Train Loss= 0.0006988592938386364 :: Val Loss 0.0006854119384341232\n",
      "Epoch :: 19 :: Train Loss= 0.0006694377863043611 :: Val Loss 0.0006594212648389172\n",
      "Epoch :: 20 :: Train Loss= 0.0006442559201035779 :: Val Loss 0.000634142791963229\n",
      "Epoch :: 21 :: Train Loss= 0.0006202356981270122 :: Val Loss 0.000611364209752014\n",
      "Epoch :: 22 :: Train Loss= 0.0005991840714257354 :: Val Loss 0.000589770947252263\n",
      "Epoch :: 23 :: Train Loss= 0.0005783373900011205 :: Val Loss 0.0005704478134515672\n",
      "Epoch :: 24 :: Train Loss= 0.0005586361460892789 :: Val Loss 0.0005503343665314497\n",
      "Epoch :: 25 :: Train Loss= 0.0005411366512357302 :: Val Loss 0.0005349557028487348\n",
      "Epoch :: 26 :: Train Loss= 0.0005229970204566321 :: Val Loss 0.0005196060156429285\n",
      "Epoch :: 27 :: Train Loss= 0.0005086188240657498 :: Val Loss 0.0005037266706599027\n",
      "Epoch :: 28 :: Train Loss= 0.0004947563048513205 :: Val Loss 0.0004900507922088957\n",
      "Epoch :: 29 :: Train Loss= 0.00048199746179226156 :: Val Loss 0.0004767284813969016\n",
      "Epoch :: 30 :: Train Loss= 0.0004689943196850964 :: Val Loss 0.0004644764219270562\n",
      "Epoch :: 31 :: Train Loss= 0.00045563879243682673 :: Val Loss 0.00045202442251899156\n",
      "Epoch :: 32 :: Train Loss= 0.0004444216459040177 :: Val Loss 0.00044054839542544144\n",
      "Epoch :: 33 :: Train Loss= 0.00043406315859693365 :: Val Loss 0.0004300106906711171\n",
      "Epoch :: 34 :: Train Loss= 0.00042336320656532193 :: Val Loss 0.00042136746318293663\n",
      "Epoch :: 35 :: Train Loss= 0.0004141369938833667 :: Val Loss 0.0004110906338624876\n",
      "Epoch :: 36 :: Train Loss= 0.0004046058607466322 :: Val Loss 0.00040145217837982724\n",
      "Epoch :: 37 :: Train Loss= 0.0003961907700629584 :: Val Loss 0.00039260221452274357\n",
      "Epoch :: 38 :: Train Loss= 0.00038734070969689377 :: Val Loss 0.0003854666685062259\n",
      "Epoch :: 39 :: Train Loss= 0.0003807044640137034 :: Val Loss 0.0003769403518300073\n",
      "Epoch :: 40 :: Train Loss= 0.00037208897378050764 :: Val Loss 0.0003699836487374039\n",
      "Epoch :: 41 :: Train Loss= 0.0003653239267954545 :: Val Loss 0.0003621053096252145\n",
      "Epoch :: 42 :: Train Loss= 0.00035958398035024317 :: Val Loss 0.0003541355067538334\n"
     ]
    }
   ],
   "source": [
    "\n",
    "training_loss, val_loss= model.train(\n",
    "    train_x = X_train,\n",
    "    train_y= y_train,\n",
    "    val_x= X_val,\n",
    "    val_y= y_val,\n",
    "    loss_func=CrossEntropy()\n",
    ")\n"
   ]
  },
  {
   "cell_type": "code",
   "execution_count": 12,
   "id": "e08420bb-18f8-44f8-ba9f-e0cd761fd693",
   "metadata": {},
   "outputs": [
    {
     "data": {
      "text/plain": [
       "<matplotlib.legend.Legend at 0x186d43dd8b0>"
      ]
     },
     "execution_count": 12,
     "metadata": {},
     "output_type": "execute_result"
    },
    {
     "data": {
      "image/png": "[encoded data removed]",
      "text/plain": [
       "<Figure size 640x480 with 1 Axes>"
      ]
     },
     "metadata": {},
     "output_type": "display_data"
    }
   ],
   "source": [
    "import matplotlib.pyplot as plt\n",
    "\n",
    "plt.plot(training_loss, color='b', label='Training')\n",
    "plt.plot(val_loss, color='r', label=\"Validation\")\n",
    "plt.title(\"Loss Curve\", size=16)\n",
    "plt.legend()"
   ]
  },
  {
   "cell_type": "code",
   "execution_count": 13,
   "id": "f51260cf-c32a-4e5d-be18-08ea3d66c6a1",
   "metadata": {},
   "outputs": [
    {
     "name": "stdout",
     "output_type": "stream",
     "text": [
      "Correct 56 / 56\n"
     ]
    }
   ],
   "source": [
    "predicted_labels  = np.argmax(model.forward(X_test), axis=1)\n",
    "decoded_y = np.argmax(y_test, axis=1)\n",
    "\n",
    "print(\"Correct\", len(np.where(predicted_labels  == decoded_y)[0]), \"/\", len(X_test))"
   ]
  }
 ],
 "metadata": {
  "kernelspec": {
   "display_name": "Python 3 (ipykernel)",
   "language": "python",
   "name": "python3"
  },
  "language_info": {
   "codemirror_mode": {
    "name": "ipython",
    "version": 3
   },
   "file_extension": ".py",
   "mimetype": "text/x-python",
   "name": "python",
   "nbconvert_exporter": "python",
   "pygments_lexer": "ipython3",
   "version": "3.12.4"
  }
 },
 "nbformat": 4,
 "nbformat_minor": 5
}
